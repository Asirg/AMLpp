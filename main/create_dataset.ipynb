{
 "cells": [
  {
   "cell_type": "code",
   "execution_count": 2,
   "metadata": {},
   "outputs": [],
   "source": [
    "from sql.methods  import get_application_by_backend_id, get_application_by_id, get_application_history, get_ubki, get_application_ids, get_ids_cmd\r\n",
    "from ast import literal_eval\r\n",
    "from typing  import List \r\n",
    "import pandas as pd \r\n",
    "import datetime\r\n",
    "\r\n",
    "from utils.ubki import get_useful_ubki_fields\r\n",
    "from utils.application_history import get_useful_history_fields\r\n",
    "from utils.application import get_useful_application_fields"
   ]
  },
  {
   "cell_type": "code",
   "execution_count": 6,
   "metadata": {},
   "outputs": [],
   "source": [
    "# Класс запроса для получения id и потом данных для датасета\r\n",
    "class QueryMeta:\r\n",
    "       def __init__(self, id_selection_cmd: str, application_history_info: bool, ubki_info: bool):\r\n",
    "              self.application_ids = get_ids_cmd(id_selection_cmd)     # Загрузка id по запросу\r\n",
    "              self.application_history_info = application_history_info # Нужна ли информация по истории\r\n",
    "              self.ubki_info = ubki_info                               # Нужна ли информации по убки"
   ]
  },
  {
   "cell_type": "code",
   "execution_count": 7,
   "metadata": {},
   "outputs": [],
   "source": [
    "# Функция создания датасета на основе QueryMeta\r\n",
    "def create_dataset(query_metas: List[QueryMeta]) -> dict:\r\n",
    "    result = []\r\n",
    "    for query_meta in query_metas:                      # Проходим по объектам класса\r\n",
    "        for app_id in query_meta.application_ids:       # Проходим по id конкретного объекта\r\n",
    "            # Получаем анкету\r\n",
    "            app_info = get_application_by_id(app_id)\r\n",
    "            # Получаем историю анкет\r\n",
    "            app_history_info = get_application_history(app_info['user_id'], app_info['applied_at']) if query_meta.application_history_info else {} \r\n",
    "            # Получаем убки\r\n",
    "            try:\r\n",
    "                ubki_info = get_ubki(app_info['social_number'], app_info['id']) if query_meta.ubki_info else {}\r\n",
    "            except:\r\n",
    "                ubki_info = {}\r\n",
    "            # Добавляем в результат одного клиента с полезными данными по каждому пункту инф.   ## !! Можно расширить получаемые полезные данные с каждого елемента !!\r\n",
    "            result.append({ **get_useful_application_fields(app_info),\r\n",
    "                            **get_useful_history_fields(app_history_info),\r\n",
    "                            **get_useful_ubki_fields(ubki_info, app_info['phone_mobile'], app_info['email'], app_info['applied_at'])})\r\n",
    "    return result"
   ]
  },
  {
   "cell_type": "markdown",
   "metadata": {},
   "source": [
    "# ТЕСТИРОВАНИЕ"
   ]
  },
  {
   "cell_type": "code",
   "execution_count": 8,
   "metadata": {},
   "outputs": [],
   "source": [
    "DATE_FROM = datetime.datetime(year=2020, month=1, day=1)\r\n",
    "DATE_TO = datetime.datetime(year=2021, month=5, day=1)"
   ]
  },
  {
   "cell_type": "code",
   "execution_count": 9,
   "metadata": {},
   "outputs": [],
   "source": [
    "q = []\r\n",
    "for i in range(10):\r\n",
    "    cmd =   \"\"\" SELECT id FROM finplugs_pdl_applications\r\n",
    "                WHERE (applied_at between '{date_from}' AND '{date_to}') AND status_id IN (5,6,2) \r\n",
    "                ORDER BY RAND() \r\n",
    "                LIMIT {limit}\r\n",
    "            \"\"\".format(date_from=DATE_FROM, date_to=DATE_TO, limit=2*i)\r\n",
    "    q.append(QueryMeta(cmd, True, True))"
   ]
  },
  {
   "cell_type": "code",
   "execution_count": 11,
   "metadata": {},
   "outputs": [
    {
     "name": "stdout",
     "output_type": "stream",
     "text": [
      " i = 9, ids = []\n",
      " i = 9, ids = [1101716, 872142]\n",
      " i = 9, ids = [806439, 895522, 843565, 1055130]\n",
      " i = 9, ids = [1049036, 1060896, 803303, 945011, 790715, 1026189]\n",
      " i = 9, ids = [1122899, 1114490, 1054246, 872260, 790740, 1127960, 1114132, 887589]\n",
      " i = 9, ids = [831484, 919154, 1030251, 796914, 1022390, 804008, 797103, 965632, 1041429, 953087]\n",
      " i = 9, ids = [838124, 1086290, 964384, 974566, 852079, 1025968, 1131049, 891644, 889452, 805082, 767535, 998601]\n",
      " i = 9, ids = [892145, 1013658, 906722, 851833, 949852, 1080502, 1003375, 978610, 841789, 904240, 1097800, 786165, 918066, 811749]\n",
      " i = 9, ids = [812148, 1089602, 921530, 767921, 1039512, 976964, 962059, 916529, 1040096, 883049, 1024929, 799123, 888054, 764374, 836828, 843536]\n",
      " i = 9, ids = [1064981, 1084949, 903597, 839468, 897965, 1068036, 1123565, 850783, 1027224, 960294, 864046, 812022, 957021, 1034208, 1010398, 806152, 1088190, 1117805]\n"
     ]
    }
   ],
   "source": [
    "for iter, val in zip(range(len(q)), q):\r\n",
    "    print(' i = {id}, ids = {ids}'.format(id=i, ids=val.application_ids))"
   ]
  },
  {
   "cell_type": "code",
   "execution_count": null,
   "metadata": {},
   "outputs": [],
   "source": [
    "dataset = create_dataset(q)\r\n",
    "dataset"
   ]
  },
  {
   "cell_type": "code",
   "execution_count": 13,
   "metadata": {},
   "outputs": [],
   "source": [
    "dataset = pd.DataFrame(dataset)"
   ]
  },
  {
   "cell_type": "code",
   "execution_count": 14,
   "metadata": {},
   "outputs": [],
   "source": [
    "dataset.to_excel('check.xlsx', index = False)"
   ]
  }
 ],
 "metadata": {
  "interpreter": {
   "hash": "f3a56291688fe74fff73a1fbf6b0dc2a5cfa3a0985083944054e17fe03253671"
  },
  "kernelspec": {
   "display_name": "Python 3.8.10 64-bit",
   "name": "python3"
  },
  "language_info": {
   "codemirror_mode": {
    "name": "ipython",
    "version": 3
   },
   "file_extension": ".py",
   "mimetype": "text/x-python",
   "name": "python",
   "nbconvert_exporter": "python",
   "pygments_lexer": "ipython3",
   "version": "3.8.10"
  },
  "orig_nbformat": 4
 },
 "nbformat": 4,
 "nbformat_minor": 2
}