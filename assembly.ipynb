{
 "cells": [
  {
   "cell_type": "code",
   "execution_count": 1,
   "source": [
    "import sys\r\n",
    "import pandas as pd\r\n",
    "import pickle\r\n",
    "from amlpp.transformers import *\r\n",
    "from amlpp.conveyor import *\r\n",
    "from amlpp.architect import *\r\n",
    "\r\n",
    "from sklearn.model_selection import train_test_split"
   ],
   "outputs": [
    {
     "output_type": "stream",
     "name": "stderr",
     "text": [
      "[nltk_data] Downloading package stopwords to\n",
      "[nltk_data]     C:\\Users\\analytic6\\AppData\\Roaming\\nltk_data...\n",
      "[nltk_data]   Package stopwords is already up-to-date!\n",
      "[nltk_data] Downloading package punkt to\n",
      "[nltk_data]     C:\\Users\\analytic6\\AppData\\Roaming\\nltk_data...\n",
      "[nltk_data]   Package punkt is already up-to-date!\n"
     ]
    }
   ],
   "metadata": {}
  },
  {
   "cell_type": "code",
   "execution_count": 2,
   "source": [
    "df = pd.read_excel('test.xlsx')\r\n",
    "# df = pd.read_excel('tr_28k_s256_newubki_alltime_new_cf.xlsx')"
   ],
   "outputs": [],
   "metadata": {}
  },
  {
   "cell_type": "code",
   "execution_count": 3,
   "source": [
    "from custom_transform.transforms import *\r\n",
    "from sklearn.ensemble import RandomForestRegressor\r\n",
    "from lightgbm import LGBMRegressor\r\n",
    "import numpy as np\r\n",
    "\r\n",
    "categorical_columns = ['organization_type_other', 'position_other', 'email', 'ceduc', 'family', 'sstate', 'cgrag', 'income_source_id',\r\n",
    "                      'income_frequency_id', 'has_prior_employment', 'empoyees_count_id', 'organization_branch_id', 'organization_type_id', 'position_id',\r\n",
    "                      'employment_type_id', 'has_movables', 'has_immovables', 'fact_addr_owner_type_id', 'fact_addr_region_id', 'fact_addr_same', 'addr_owner_type_id',\r\n",
    "                      'addr_region_id', 'education_id', 'children_count_id', 'marital_status_id', 'gender_id', \r\n",
    "                      'country_det','city_det', 'region_det', 'isp', 'browser', 'system', 'brand'\r\n",
    "                      ]\r\n",
    "\r\n",
    "model = Conveyor (\r\n",
    "                  TransformClassicExt(),\r\n",
    "                  Word2Vectorization(columns=['purpose_other'], epochs = 100),\r\n",
    "                  CategoricalEncoder(columns=categorical_columns),\r\n",
    "                  ImputerIterative(),\r\n",
    "                  estimator = RandomForestRegressor()\r\n",
    "                #   estimator =  LGBMRegressor(\r\n",
    "                #                             cat_smooth=23, colsample_bytree=0.85, learning_rate=0.005,\r\n",
    "                #                             max_depth=10, min_child_samples=17, num_leaves=237,\r\n",
    "                #                             random_state=42, reg_alpha=0.0014249285905021153,\r\n",
    "                #                             reg_lambda=0.007253299932166387, subsample=0.7\r\n",
    "                #                              ) \r\n",
    "                  )"
   ],
   "outputs": [],
   "metadata": {}
  },
  {
   "cell_type": "code",
   "execution_count": 4,
   "source": [
    "# X_train, X_test, Y_train, Y_test = df.copy(), df.copy(), df.copy(), df.copy()\r\n",
    "X_train,  X_test, Y_train, Y_test = train_test_split(df, df, test_size = 0.1, random_state=42)\r\n",
    "# model.fit(X_train, Y_train)"
   ],
   "outputs": [],
   "metadata": {}
  },
  {
   "cell_type": "code",
   "execution_count": 5,
   "source": [
    "model.fit_model(\r\n",
    "    X_train, Y_train,\r\n",
    "    rating_func='roc_auc_score',\r\n",
    "    optuna_params = {'n_trials':10},\r\n",
    "    categorical_columns = categorical_columns\r\n",
    "    )"
   ],
   "outputs": [
    {
     "output_type": "stream",
     "name": "stderr",
     "text": [
      "100%|██████████| 5/5 [00:00<00:00,  6.01it/s, transform=RandomForestRegressor]\n",
      "100%|██████████| 10/10 [00:03<00:00,  2.60it/s, model=LGBMORegressor, best_value=0.925, best_model=LGBMRegressor]\n"
     ]
    },
    {
     "output_type": "stream",
     "name": "stdout",
     "text": [
      "LGBMRegressor(colsample_bytree = 0.6, learning_rate = 0.006, subsample = 0.75, min_child_samples = 77, reg_lambda = 6.239042772375363, n_estimators = 10000, max_depth = 20, reg_alpha = 0.01724711356176746, random_state = 42, metric = rmse, num_leaves = 21, cat_smooth = 77)\n",
      "best_value = 0.925\n"
     ]
    },
    {
     "output_type": "stream",
     "name": "stderr",
     "text": [
      "100%|██████████| 100/100 [00:28<00:00,  3.57it/s, model=LinearSVR, best_value=1, best_model=RandomForestRegressor]\n"
     ]
    },
    {
     "output_type": "stream",
     "name": "stdout",
     "text": [
      "RandomForestRegressor(max_features = 0.6500000000000001, min_samples_split = 18, bootstrap = False, n_estimators = 100, min_samples_leaf = 10, random_state = 42, verbose = 0)\n",
      "best_value = 1.0\n",
      "**************************************************************************************************** \n",
      "Best model = RandomForestRegressor(bootstrap=False, max_features=0.6500000000000001,\n",
      "                      min_samples_leaf=10, min_samples_split=18,\n",
      "                      random_state=42)\n"
     ]
    }
   ],
   "metadata": {}
  },
  {
   "cell_type": "code",
   "execution_count": 6,
   "source": [
    "from lightgbm import LGBMRegressor"
   ],
   "outputs": [],
   "metadata": {}
  },
  {
   "cell_type": "code",
   "execution_count": 10,
   "source": [
    "l = LGBMRegressor(early_stopping_rounds = 100)"
   ],
   "outputs": [],
   "metadata": {}
  },
  {
   "cell_type": "code",
   "execution_count": 5,
   "source": [
    "model.fit(X_train, Y_train)"
   ],
   "outputs": [
    {
     "output_type": "stream",
     "name": "stderr",
     "text": [
      "100%|██████████| 4/4 [00:01<00:00,  3.76it/s, transform=ImputerIterative]\n"
     ]
    }
   ],
   "metadata": {}
  },
  {
   "cell_type": "code",
   "execution_count": 6,
   "source": [
    "x_, y_ = model.transform(X_train, Y_train)"
   ],
   "outputs": [],
   "metadata": {}
  },
  {
   "cell_type": "code",
   "execution_count": 10,
   "source": [
    "pred = model.predict(X_train)"
   ],
   "outputs": [],
   "metadata": {}
  },
  {
   "cell_type": "code",
   "execution_count": null,
   "source": [
    "model.feature_importances(df, df)"
   ],
   "outputs": [],
   "metadata": {}
  },
  {
   "cell_type": "code",
   "execution_count": 6,
   "source": [
    "import tqdm"
   ],
   "outputs": [],
   "metadata": {}
  },
  {
   "cell_type": "code",
   "execution_count": 7,
   "source": [
    "import time\r\n",
    "\r\n",
    "for i in tqdm.tqdm(range(10)):\r\n",
    "    time.sleep(2)"
   ],
   "outputs": [
    {
     "output_type": "stream",
     "name": "stderr",
     "text": [
      " 30%|███       | 3/10 [00:08<00:18,  2.68s/it]\n"
     ]
    },
    {
     "output_type": "error",
     "ename": "KeyboardInterrupt",
     "evalue": "",
     "traceback": [
      "\u001b[1;31m---------------------------------------------------------------------------\u001b[0m",
      "\u001b[1;31mKeyboardInterrupt\u001b[0m                         Traceback (most recent call last)",
      "\u001b[1;32m<ipython-input-7-0d2b50ab0e32>\u001b[0m in \u001b[0;36m<module>\u001b[1;34m\u001b[0m\n\u001b[0;32m      2\u001b[0m \u001b[1;33m\u001b[0m\u001b[0m\n\u001b[0;32m      3\u001b[0m \u001b[1;32mfor\u001b[0m \u001b[0mi\u001b[0m \u001b[1;32min\u001b[0m \u001b[0mtqdm\u001b[0m\u001b[1;33m.\u001b[0m\u001b[0mtqdm\u001b[0m\u001b[1;33m(\u001b[0m\u001b[0mrange\u001b[0m\u001b[1;33m(\u001b[0m\u001b[1;36m10\u001b[0m\u001b[1;33m)\u001b[0m\u001b[1;33m)\u001b[0m\u001b[1;33m:\u001b[0m\u001b[1;33m\u001b[0m\u001b[1;33m\u001b[0m\u001b[0m\n\u001b[1;32m----> 4\u001b[1;33m     \u001b[0mtime\u001b[0m\u001b[1;33m.\u001b[0m\u001b[0msleep\u001b[0m\u001b[1;33m(\u001b[0m\u001b[1;36m2\u001b[0m\u001b[1;33m)\u001b[0m\u001b[1;33m\u001b[0m\u001b[1;33m\u001b[0m\u001b[0m\n\u001b[0m",
      "\u001b[1;31mKeyboardInterrupt\u001b[0m: "
     ]
    }
   ],
   "metadata": {}
  },
  {
   "cell_type": "code",
   "execution_count": null,
   "source": [],
   "outputs": [],
   "metadata": {}
  }
 ],
 "metadata": {
  "interpreter": {
   "hash": "f3a56291688fe74fff73a1fbf6b0dc2a5cfa3a0985083944054e17fe03253671"
  },
  "kernelspec": {
   "name": "python3",
   "display_name": "Python 3.8.10 64-bit"
  },
  "language_info": {
   "codemirror_mode": {
    "name": "ipython",
    "version": 3
   },
   "file_extension": ".py",
   "mimetype": "text/x-python",
   "name": "python",
   "nbconvert_exporter": "python",
   "pygments_lexer": "ipython3",
   "version": "3.8.10"
  },
  "orig_nbformat": 4
 },
 "nbformat": 4,
 "nbformat_minor": 2
}